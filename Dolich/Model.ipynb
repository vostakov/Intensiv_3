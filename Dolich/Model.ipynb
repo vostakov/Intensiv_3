{
 "cells": [
  {
   "cell_type": "code",
   "execution_count": 295,
   "metadata": {},
   "outputs": [],
   "source": [
    "import pandas as pd\n",
    "from sklearn.metrics import accuracy_score, roc_auc_score\n",
    "import numpy as np\n",
    "import matplotlib.pyplot as plt\n",
    "from statsmodels.tsa.statespace.sarimax import SARIMAX\n",
    "import itertools\n",
    "from sklearn.linear_model import LinearRegression\n",
    "from sklearn.metrics import mean_squared_error\n",
    "from statsmodels.tsa.holtwinters import ExponentialSmoothing\n",
    "from sklearn.model_selection import train_test_split\n",
    "import statsmodels.api as sm\n",
    "from statsmodels.tsa.arima.model import ARIMA\n",
    "from sklearn.ensemble import GradientBoostingRegressor\n",
    "from sklearn.metrics import mean_absolute_error\n",
    "from catboost import CatBoostRegressor\n"
   ]
  },
  {
   "cell_type": "markdown",
   "metadata": {},
   "source": [
    "Импорт библиотек"
   ]
  },
  {
   "cell_type": "code",
   "execution_count": 296,
   "metadata": {},
   "outputs": [],
   "source": [
    "ca = pd.read_excel(r'C:\\Users\\User\\Documents\\GitHub\\Intensiv_3\\Dataset\\data\\train.xlsx', engine='openpyxl')"
   ]
  },
  {
   "cell_type": "markdown",
   "metadata": {},
   "source": [
    "Проверка данных (В нашем случае не нужно ничего заполнять)"
   ]
  },
  {
   "cell_type": "code",
   "execution_count": 297,
   "metadata": {},
   "outputs": [
    {
     "data": {
      "text/html": [
       "<div>\n",
       "<style scoped>\n",
       "    .dataframe tbody tr th:only-of-type {\n",
       "        vertical-align: middle;\n",
       "    }\n",
       "\n",
       "    .dataframe tbody tr th {\n",
       "        vertical-align: top;\n",
       "    }\n",
       "\n",
       "    .dataframe thead th {\n",
       "        text-align: right;\n",
       "    }\n",
       "</style>\n",
       "<table border=\"1\" class=\"dataframe\">\n",
       "  <thead>\n",
       "    <tr style=\"text-align: right;\">\n",
       "      <th></th>\n",
       "      <th>dt</th>\n",
       "      <th>Цена на арматуру</th>\n",
       "    </tr>\n",
       "  </thead>\n",
       "  <tbody>\n",
       "    <tr>\n",
       "      <th>0</th>\n",
       "      <td>2015-01-05</td>\n",
       "      <td>32900</td>\n",
       "    </tr>\n",
       "    <tr>\n",
       "      <th>1</th>\n",
       "      <td>2015-01-12</td>\n",
       "      <td>32500</td>\n",
       "    </tr>\n",
       "    <tr>\n",
       "      <th>2</th>\n",
       "      <td>2015-01-19</td>\n",
       "      <td>32000</td>\n",
       "    </tr>\n",
       "    <tr>\n",
       "      <th>3</th>\n",
       "      <td>2015-01-26</td>\n",
       "      <td>30700</td>\n",
       "    </tr>\n",
       "    <tr>\n",
       "      <th>4</th>\n",
       "      <td>2015-02-02</td>\n",
       "      <td>30300</td>\n",
       "    </tr>\n",
       "    <tr>\n",
       "      <th>5</th>\n",
       "      <td>2015-02-09</td>\n",
       "      <td>30300</td>\n",
       "    </tr>\n",
       "    <tr>\n",
       "      <th>6</th>\n",
       "      <td>2015-02-16</td>\n",
       "      <td>30100</td>\n",
       "    </tr>\n",
       "    <tr>\n",
       "      <th>7</th>\n",
       "      <td>2015-02-23</td>\n",
       "      <td>29400</td>\n",
       "    </tr>\n",
       "    <tr>\n",
       "      <th>8</th>\n",
       "      <td>2015-03-02</td>\n",
       "      <td>29200</td>\n",
       "    </tr>\n",
       "    <tr>\n",
       "      <th>9</th>\n",
       "      <td>2015-03-09</td>\n",
       "      <td>29000</td>\n",
       "    </tr>\n",
       "    <tr>\n",
       "      <th>10</th>\n",
       "      <td>2015-03-16</td>\n",
       "      <td>28700</td>\n",
       "    </tr>\n",
       "    <tr>\n",
       "      <th>11</th>\n",
       "      <td>2015-03-23</td>\n",
       "      <td>27800</td>\n",
       "    </tr>\n",
       "  </tbody>\n",
       "</table>\n",
       "</div>"
      ],
      "text/plain": [
       "           dt  Цена на арматуру\n",
       "0  2015-01-05             32900\n",
       "1  2015-01-12             32500\n",
       "2  2015-01-19             32000\n",
       "3  2015-01-26             30700\n",
       "4  2015-02-02             30300\n",
       "5  2015-02-09             30300\n",
       "6  2015-02-16             30100\n",
       "7  2015-02-23             29400\n",
       "8  2015-03-02             29200\n",
       "9  2015-03-09             29000\n",
       "10 2015-03-16             28700\n",
       "11 2015-03-23             27800"
      ]
     },
     "execution_count": 297,
     "metadata": {},
     "output_type": "execute_result"
    }
   ],
   "source": [
    "ca.head(12)"
   ]
  },
  {
   "cell_type": "markdown",
   "metadata": {},
   "source": [
    "Проверка"
   ]
  },
  {
   "cell_type": "code",
   "execution_count": 298,
   "metadata": {},
   "outputs": [
    {
     "name": "stdout",
     "output_type": "stream",
     "text": [
      "<class 'pandas.core.frame.DataFrame'>\n",
      "RangeIndex: 400 entries, 0 to 399\n",
      "Data columns (total 2 columns):\n",
      " #   Column            Non-Null Count  Dtype         \n",
      "---  ------            --------------  -----         \n",
      " 0   dt                400 non-null    datetime64[ns]\n",
      " 1   Цена на арматуру  400 non-null    int64         \n",
      "dtypes: datetime64[ns](1), int64(1)\n",
      "memory usage: 6.4 KB\n"
     ]
    }
   ],
   "source": [
    "ca.info()"
   ]
  },
  {
   "cell_type": "markdown",
   "metadata": {},
   "source": [
    "Дата"
   ]
  },
  {
   "cell_type": "code",
   "execution_count": 299,
   "metadata": {},
   "outputs": [],
   "source": [
    "ca['dt'] = pd.to_datetime(ca['dt'], errors='coerce')\n",
    "\n",
    "ca['День недели'] = ca['dt'].dt.weekday\n",
    "ca['Месяц'] = ca['dt'].dt.month\n",
    "ca['Год'] = ca['dt'].dt.year"
   ]
  },
  {
   "cell_type": "markdown",
   "metadata": {},
   "source": [
    "Мини-проверка"
   ]
  },
  {
   "cell_type": "code",
   "execution_count": 300,
   "metadata": {},
   "outputs": [
    {
     "name": "stdout",
     "output_type": "stream",
     "text": [
      "Столбец 'dt' найден.\n"
     ]
    }
   ],
   "source": [
    "if 'dt' in ca.columns:\n",
    "    print(\"Столбец 'dt' найден.\")\n",
    "    ca['dt'] = pd.to_datetime(ca['dt'], errors='coerce') \n",
    "else:\n",
    "    print(\"Столбец 'dt' отсутствует.\")"
   ]
  },
  {
   "cell_type": "markdown",
   "metadata": {},
   "source": [
    "Проверяем"
   ]
  },
  {
   "cell_type": "code",
   "execution_count": 301,
   "metadata": {},
   "outputs": [
    {
     "name": "stdout",
     "output_type": "stream",
     "text": [
      "Имена столбцов:\n",
      "Index(['dt', 'Цена на арматуру', 'День недели', 'Месяц', 'Год'], dtype='object')\n"
     ]
    }
   ],
   "source": [
    "print(\"Имена столбцов:\")\n",
    "print(ca.columns)"
   ]
  },
  {
   "cell_type": "code",
   "execution_count": 302,
   "metadata": {},
   "outputs": [],
   "source": [
    "ca.rename(columns={\n",
    "    'Год': 'Год',\n",
    "    'Цена на арматуру': 'Цена_на_арматуру',\n",
    "    'Цена на арматуру_lag1': 'Цена_на_арматуру_lag1',\n",
    "    'Цена на арматуру_lag2': 'Цена_на_арматуру_lag2',\n",
    "    'День недели': 'Номер_недели',\n",
    "    'Месяц': 'Месяц'  \n",
    "}, inplace=True)"
   ]
  },
  {
   "cell_type": "markdown",
   "metadata": {},
   "source": [
    "Модель CatBoostRegressor"
   ]
  },
  {
   "cell_type": "code",
   "execution_count": 304,
   "metadata": {},
   "outputs": [
    {
     "name": "stdout",
     "output_type": "stream",
     "text": [
      "0:\tlearn: 12280.2372719\ttotal: 2.92ms\tremaining: 1.46s\n",
      "100:\tlearn: 1419.0594205\ttotal: 168ms\tremaining: 664ms\n",
      "200:\tlearn: 1000.8971641\ttotal: 313ms\tremaining: 466ms\n",
      "300:\tlearn: 756.0690972\ttotal: 408ms\tremaining: 270ms\n",
      "400:\tlearn: 616.3536782\ttotal: 501ms\tremaining: 124ms\n",
      "499:\tlearn: 527.5949406\ttotal: 597ms\tremaining: 0us\n",
      "Прогноз на 6 недель вперед: [46185.23591153665, 45794.67733510864, 45794.67733510864, 45794.67733510864, 45794.67733510864, 45794.67733510864]\n"
     ]
    },
    {
     "data": {
      "image/png": "[encoded data removed]",
      "text/plain": [
       "<Figure size 1000x600 with 1 Axes>"
      ]
     },
     "metadata": {},
     "output_type": "display_data"
    }
   ],
   "source": [
    "ca['Цена_на_арматуру_lag1'] = ca['Цена_на_арматуру'].shift(1)\n",
    "ca['Цена_на_арматуру_lag2'] = ca['Цена_на_арматуру'].shift(2)\n",
    "\n",
    "ca = ca.dropna(subset=['Цена_на_арматуру_lag1', 'Цена_на_арматуру_lag2'])\n",
    "\n",
    "required_columns = ['Год', 'Номер_недели', 'Цена_на_арматуру_lag1', 'Цена_на_арматуру_lag2', 'Цена_на_арматуру']\n",
    "missing_columns = [col for col in required_columns if col not in ca.columns]\n",
    "\n",
    "if missing_columns:\n",
    "    print(f\"Отсутствуют следующие столбцы: {missing_columns}\")\n",
    "else:\n",
    "    X = ca[['Год', 'Номер_недели', 'Цена_на_арматуру_lag1', 'Цена_на_арматуру_lag2']]\n",
    "    y = ca['Цена_на_арматуру']\n",
    "\n",
    "    model = CatBoostRegressor(iterations=500, depth=6, learning_rate=0.1, loss_function='RMSE', verbose=100)\n",
    "\n",
    "    model.fit(X, y)\n",
    "\n",
    "    def predict_future(model, ca, N, features):\n",
    "        future_predictions = []\n",
    "        last_row = ca.iloc[-1][features].values.reshape(1, -1)\n",
    "        \n",
    "        for i in range(N):\n",
    "            pred = model.predict(last_row)\n",
    "            future_predictions.append(pred[0])\n",
    "            \n",
    "            last_row = last_row.copy()\n",
    "            last_row[0, features.index('Номер_недели')] += 1  \n",
    "            last_row[0, features.index('Год')] = ca['Год'].iloc[-1]  \n",
    "            last_row[0, features.index('Цена_на_арматуру_lag2')] = last_row[0, features.index('Цена_на_арматуру_lag1')]\n",
    "            last_row[0, features.index('Цена_на_арматуру_lag1')] = pred  \n",
    "\n",
    "        return future_predictions\n",
    "\n",
    "    try:\n",
    "        N = int(input(\"Введите количество недель для предсказания (от 1 до 6): \"))\n",
    "        if N < 1 or N > 6:\n",
    "            print(\"Введите число от 1 до 6!\")\n",
    "        else:\n",
    "            future_predictions = predict_future(model, ca, N, ['Год', 'Номер_недели', 'Цена_на_арматуру_lag1', 'Цена_на_арматуру_lag2'])\n",
    "            print(f\"Прогноз на {N} недель вперед: {future_predictions}\")\n",
    "            \n",
    "            plt.figure(figsize=(10, 6))\n",
    "            plt.plot(ca['dt'], y, label='Реальные значения', color='blue')\n",
    "            \n",
    "            future_dates = pd.date_range(start=ca['dt'].iloc[-1] + pd.Timedelta(weeks=1), periods=N, freq='W-MON')\n",
    "            \n",
    "            plt.plot(future_dates, future_predictions, label='Предсказанные значения', color='red', linestyle='-')\n",
    "            \n",
    "            plt.xlabel('Дата')\n",
    "            plt.ylabel('Цена на арматуру')\n",
    "            plt.title(f'{N} недель вперед')\n",
    "            plt.legend()\n",
    "            plt.xticks(rotation=45)\n",
    "            plt.show()\n",
    "\n",
    "    except ValueError:\n",
    "        print(\"Ошибка: введите корректное число!\")"
   ]
  }
 ],
 "metadata": {
  "kernelspec": {
   "display_name": ".venv",
   "language": "python",
   "name": "python3"
  },
  "language_info": {
   "codemirror_mode": {
    "name": "ipython",
    "version": 3
   },
   "file_extension": ".py",
   "mimetype": "text/x-python",
   "name": "python",
   "nbconvert_exporter": "python",
   "pygments_lexer": "ipython3",
   "version": "3.11.5"
  }
 },
 "nbformat": 4,
 "nbformat_minor": 2
}
